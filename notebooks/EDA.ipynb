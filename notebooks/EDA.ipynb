{
 "cells": [
  {
   "cell_type": "markdown",
   "metadata": {},
   "source": [
    "US Car Sale Data Analysis"
   ]
  },
  {
   "cell_type": "markdown",
   "metadata": {},
   "source": [
    "This notebook and the related project will be taking a look at a dataset of car sales in the US over the past 20 years, in an effort to determine what parameters of a vehicle inform its price the most. Having this information would ube useful for car manufacturers or dealers to focus on certain vehicle parameters, or for forecastors to make predictions about the actions of those groups."
   ]
  },
  {
   "cell_type": "code",
   "execution_count": 1,
   "metadata": {},
   "outputs": [],
   "source": [
    "import pandas as pd\n",
    "import numpy as np\n",
    "from scipy import stats as stt\n",
    "import streamlit as st\n",
    "import matplotlib.pyplot as plt\n",
    "import plotly.express as px\n",
    "import altair as alt"
   ]
  },
  {
   "cell_type": "code",
   "execution_count": 2,
   "metadata": {},
   "outputs": [
    {
     "data": {
      "text/html": [
       "<div>\n",
       "<style scoped>\n",
       "    .dataframe tbody tr th:only-of-type {\n",
       "        vertical-align: middle;\n",
       "    }\n",
       "\n",
       "    .dataframe tbody tr th {\n",
       "        vertical-align: top;\n",
       "    }\n",
       "\n",
       "    .dataframe thead th {\n",
       "        text-align: right;\n",
       "    }\n",
       "</style>\n",
       "<table border=\"1\" class=\"dataframe\">\n",
       "  <thead>\n",
       "    <tr style=\"text-align: right;\">\n",
       "      <th></th>\n",
       "      <th>price</th>\n",
       "      <th>model_year</th>\n",
       "      <th>model</th>\n",
       "      <th>condition</th>\n",
       "      <th>cylinders</th>\n",
       "      <th>fuel</th>\n",
       "      <th>odometer</th>\n",
       "      <th>transmission</th>\n",
       "      <th>type</th>\n",
       "      <th>paint_color</th>\n",
       "      <th>is_4wd</th>\n",
       "      <th>date_posted</th>\n",
       "      <th>days_listed</th>\n",
       "    </tr>\n",
       "  </thead>\n",
       "  <tbody>\n",
       "    <tr>\n",
       "      <th>49733</th>\n",
       "      <td>6300</td>\n",
       "      <td>2006.0</td>\n",
       "      <td>chevrolet silverado</td>\n",
       "      <td>excellent</td>\n",
       "      <td>8.0</td>\n",
       "      <td>gas</td>\n",
       "      <td>NaN</td>\n",
       "      <td>automatic</td>\n",
       "      <td>truck</td>\n",
       "      <td>grey</td>\n",
       "      <td>1.0</td>\n",
       "      <td>2019-01-03</td>\n",
       "      <td>39</td>\n",
       "    </tr>\n",
       "    <tr>\n",
       "      <th>682</th>\n",
       "      <td>12000</td>\n",
       "      <td>2003.0</td>\n",
       "      <td>ford mustang</td>\n",
       "      <td>good</td>\n",
       "      <td>8.0</td>\n",
       "      <td>gas</td>\n",
       "      <td>NaN</td>\n",
       "      <td>manual</td>\n",
       "      <td>coupe</td>\n",
       "      <td>black</td>\n",
       "      <td>NaN</td>\n",
       "      <td>2018-12-09</td>\n",
       "      <td>26</td>\n",
       "    </tr>\n",
       "    <tr>\n",
       "      <th>41378</th>\n",
       "      <td>3500</td>\n",
       "      <td>2008.0</td>\n",
       "      <td>honda civic</td>\n",
       "      <td>like new</td>\n",
       "      <td>4.0</td>\n",
       "      <td>gas</td>\n",
       "      <td>142300.0</td>\n",
       "      <td>automatic</td>\n",
       "      <td>sedan</td>\n",
       "      <td>blue</td>\n",
       "      <td>NaN</td>\n",
       "      <td>2018-08-29</td>\n",
       "      <td>50</td>\n",
       "    </tr>\n",
       "    <tr>\n",
       "      <th>686</th>\n",
       "      <td>999</td>\n",
       "      <td>1995.0</td>\n",
       "      <td>toyota 4runner</td>\n",
       "      <td>salvage</td>\n",
       "      <td>6.0</td>\n",
       "      <td>gas</td>\n",
       "      <td>164221.0</td>\n",
       "      <td>automatic</td>\n",
       "      <td>SUV</td>\n",
       "      <td>red</td>\n",
       "      <td>NaN</td>\n",
       "      <td>2018-05-03</td>\n",
       "      <td>33</td>\n",
       "    </tr>\n",
       "    <tr>\n",
       "      <th>4987</th>\n",
       "      <td>8400</td>\n",
       "      <td>2015.0</td>\n",
       "      <td>hyundai sonata</td>\n",
       "      <td>good</td>\n",
       "      <td>4.0</td>\n",
       "      <td>gas</td>\n",
       "      <td>94688.0</td>\n",
       "      <td>automatic</td>\n",
       "      <td>sedan</td>\n",
       "      <td>silver</td>\n",
       "      <td>NaN</td>\n",
       "      <td>2019-01-16</td>\n",
       "      <td>61</td>\n",
       "    </tr>\n",
       "    <tr>\n",
       "      <th>7225</th>\n",
       "      <td>14990</td>\n",
       "      <td>2015.0</td>\n",
       "      <td>toyota rav4</td>\n",
       "      <td>excellent</td>\n",
       "      <td>4.0</td>\n",
       "      <td>gas</td>\n",
       "      <td>19965.0</td>\n",
       "      <td>automatic</td>\n",
       "      <td>SUV</td>\n",
       "      <td>silver</td>\n",
       "      <td>1.0</td>\n",
       "      <td>2018-07-05</td>\n",
       "      <td>30</td>\n",
       "    </tr>\n",
       "    <tr>\n",
       "      <th>25957</th>\n",
       "      <td>19800</td>\n",
       "      <td>2014.0</td>\n",
       "      <td>chevrolet silverado</td>\n",
       "      <td>good</td>\n",
       "      <td>8.0</td>\n",
       "      <td>diesel</td>\n",
       "      <td>NaN</td>\n",
       "      <td>automatic</td>\n",
       "      <td>truck</td>\n",
       "      <td>grey</td>\n",
       "      <td>1.0</td>\n",
       "      <td>2019-02-01</td>\n",
       "      <td>55</td>\n",
       "    </tr>\n",
       "    <tr>\n",
       "      <th>7394</th>\n",
       "      <td>8749</td>\n",
       "      <td>2014.0</td>\n",
       "      <td>honda civic</td>\n",
       "      <td>like new</td>\n",
       "      <td>4.0</td>\n",
       "      <td>gas</td>\n",
       "      <td>111000.0</td>\n",
       "      <td>automatic</td>\n",
       "      <td>sedan</td>\n",
       "      <td>grey</td>\n",
       "      <td>NaN</td>\n",
       "      <td>2018-11-14</td>\n",
       "      <td>71</td>\n",
       "    </tr>\n",
       "    <tr>\n",
       "      <th>37110</th>\n",
       "      <td>4500</td>\n",
       "      <td>2005.0</td>\n",
       "      <td>toyota sienna</td>\n",
       "      <td>good</td>\n",
       "      <td>6.0</td>\n",
       "      <td>gas</td>\n",
       "      <td>191000.0</td>\n",
       "      <td>automatic</td>\n",
       "      <td>mini-van</td>\n",
       "      <td>grey</td>\n",
       "      <td>NaN</td>\n",
       "      <td>2019-03-25</td>\n",
       "      <td>10</td>\n",
       "    </tr>\n",
       "    <tr>\n",
       "      <th>2114</th>\n",
       "      <td>36936</td>\n",
       "      <td>2016.0</td>\n",
       "      <td>toyota tundra</td>\n",
       "      <td>excellent</td>\n",
       "      <td>8.0</td>\n",
       "      <td>gas</td>\n",
       "      <td>36320.0</td>\n",
       "      <td>automatic</td>\n",
       "      <td>truck</td>\n",
       "      <td>blue</td>\n",
       "      <td>1.0</td>\n",
       "      <td>2018-08-11</td>\n",
       "      <td>49</td>\n",
       "    </tr>\n",
       "  </tbody>\n",
       "</table>\n",
       "</div>"
      ],
      "text/plain": [
       "       price  model_year                model  condition  cylinders    fuel  \\\n",
       "49733   6300      2006.0  chevrolet silverado  excellent        8.0     gas   \n",
       "682    12000      2003.0         ford mustang       good        8.0     gas   \n",
       "41378   3500      2008.0          honda civic   like new        4.0     gas   \n",
       "686      999      1995.0       toyota 4runner    salvage        6.0     gas   \n",
       "4987    8400      2015.0       hyundai sonata       good        4.0     gas   \n",
       "7225   14990      2015.0          toyota rav4  excellent        4.0     gas   \n",
       "25957  19800      2014.0  chevrolet silverado       good        8.0  diesel   \n",
       "7394    8749      2014.0          honda civic   like new        4.0     gas   \n",
       "37110   4500      2005.0        toyota sienna       good        6.0     gas   \n",
       "2114   36936      2016.0        toyota tundra  excellent        8.0     gas   \n",
       "\n",
       "       odometer transmission      type paint_color  is_4wd date_posted  \\\n",
       "49733       NaN    automatic     truck        grey     1.0  2019-01-03   \n",
       "682         NaN       manual     coupe       black     NaN  2018-12-09   \n",
       "41378  142300.0    automatic     sedan        blue     NaN  2018-08-29   \n",
       "686    164221.0    automatic       SUV         red     NaN  2018-05-03   \n",
       "4987    94688.0    automatic     sedan      silver     NaN  2019-01-16   \n",
       "7225    19965.0    automatic       SUV      silver     1.0  2018-07-05   \n",
       "25957       NaN    automatic     truck        grey     1.0  2019-02-01   \n",
       "7394   111000.0    automatic     sedan        grey     NaN  2018-11-14   \n",
       "37110  191000.0    automatic  mini-van        grey     NaN  2019-03-25   \n",
       "2114    36320.0    automatic     truck        blue     1.0  2018-08-11   \n",
       "\n",
       "       days_listed  \n",
       "49733           39  \n",
       "682             26  \n",
       "41378           50  \n",
       "686             33  \n",
       "4987            61  \n",
       "7225            30  \n",
       "25957           55  \n",
       "7394            71  \n",
       "37110           10  \n",
       "2114            49  "
      ]
     },
     "execution_count": 2,
     "metadata": {},
     "output_type": "execute_result"
    }
   ],
   "source": [
    "cars = pd.read_csv(r\"C:\\Personal Files\\Coding\\GitHub\\sprint-4-project\\vehicles_us.csv\", sep=',', decimal='.')\n",
    "cars.sample(10)"
   ]
  },
  {
   "cell_type": "code",
   "execution_count": 3,
   "metadata": {},
   "outputs": [
    {
     "name": "stdout",
     "output_type": "stream",
     "text": [
      "<class 'pandas.core.frame.DataFrame'>\n",
      "RangeIndex: 51525 entries, 0 to 51524\n",
      "Data columns (total 13 columns):\n",
      " #   Column        Non-Null Count  Dtype  \n",
      "---  ------        --------------  -----  \n",
      " 0   price         51525 non-null  int64  \n",
      " 1   model_year    47906 non-null  float64\n",
      " 2   model         51525 non-null  object \n",
      " 3   condition     51525 non-null  object \n",
      " 4   cylinders     46265 non-null  float64\n",
      " 5   fuel          51525 non-null  object \n",
      " 6   odometer      43633 non-null  float64\n",
      " 7   transmission  51525 non-null  object \n",
      " 8   type          51525 non-null  object \n",
      " 9   paint_color   42258 non-null  object \n",
      " 10  is_4wd        25572 non-null  float64\n",
      " 11  date_posted   51525 non-null  object \n",
      " 12  days_listed   51525 non-null  int64  \n",
      "dtypes: float64(4), int64(2), object(7)\n",
      "memory usage: 5.1+ MB\n"
     ]
    }
   ],
   "source": [
    "cars.info()"
   ]
  },
  {
   "cell_type": "code",
   "execution_count": 4,
   "metadata": {},
   "outputs": [
    {
     "name": "stderr",
     "output_type": "stream",
     "text": [
      "2024-05-09 06:32:50.879 \n",
      "  \u001b[33m\u001b[1mWarning:\u001b[0m to view this Streamlit app on a browser, run it with the following\n",
      "  command:\n",
      "\n",
      "    streamlit run c:\\Personal Files\\Coding\\Anaconda3\\envs\\standard\\Lib\\site-packages\\ipykernel_launcher.py [ARGUMENTS]\n"
     ]
    },
    {
     "data": {
      "text/plain": [
       "DeltaGenerator()"
      ]
     },
     "execution_count": 4,
     "metadata": {},
     "output_type": "execute_result"
    }
   ],
   "source": [
    "st.header('Car Data')\n",
    "st.dataframe(cars)"
   ]
  },
  {
   "cell_type": "code",
   "execution_count": 5,
   "metadata": {},
   "outputs": [
    {
     "data": {
      "text/plain": [
       "0"
      ]
     },
     "execution_count": 5,
     "metadata": {},
     "output_type": "execute_result"
    }
   ],
   "source": [
    "cars.duplicated().sum()"
   ]
  },
  {
   "cell_type": "code",
   "execution_count": 6,
   "metadata": {},
   "outputs": [
    {
     "data": {
      "text/plain": [
       "model\n",
       "ford f-150                           2796\n",
       "chevrolet silverado 1500             2171\n",
       "ram 1500                             1750\n",
       "chevrolet silverado                  1271\n",
       "jeep wrangler                        1119\n",
       "                                     ... \n",
       "ford f-250 super duty                 241\n",
       "acura tl                              236\n",
       "kia sorento                           236\n",
       "nissan murano                         235\n",
       "mercedes-benz benze sprinter 2500      41\n",
       "Name: count, Length: 100, dtype: int64"
      ]
     },
     "execution_count": 6,
     "metadata": {},
     "output_type": "execute_result"
    }
   ],
   "source": [
    "cars['model'].value_counts()"
   ]
  },
  {
   "cell_type": "code",
   "execution_count": 7,
   "metadata": {},
   "outputs": [
    {
     "data": {
      "text/plain": [
       "odometer\n",
       "0.0         185\n",
       "140000.0    183\n",
       "120000.0    179\n",
       "130000.0    178\n",
       "160000.0    167\n",
       "           ... \n",
       "138580.0      1\n",
       "94624.0       1\n",
       "123321.0      1\n",
       "202627.0      1\n",
       "139573.0      1\n",
       "Name: count, Length: 17762, dtype: int64"
      ]
     },
     "execution_count": 7,
     "metadata": {},
     "output_type": "execute_result"
    }
   ],
   "source": [
    "cars['odometer'].value_counts()"
   ]
  },
  {
   "cell_type": "code",
   "execution_count": 8,
   "metadata": {},
   "outputs": [
    {
     "data": {
      "text/plain": [
       "cylinders\n",
       "8.0     15844\n",
       "6.0     15700\n",
       "4.0     13864\n",
       "10.0      549\n",
       "5.0       272\n",
       "3.0        34\n",
       "12.0        2\n",
       "Name: count, dtype: int64"
      ]
     },
     "execution_count": 8,
     "metadata": {},
     "output_type": "execute_result"
    }
   ],
   "source": [
    "cars['cylinders'].value_counts()"
   ]
  },
  {
   "cell_type": "code",
   "execution_count": 9,
   "metadata": {},
   "outputs": [
    {
     "data": {
      "text/plain": [
       "is_4wd\n",
       "1.0    25572\n",
       "Name: count, dtype: int64"
      ]
     },
     "execution_count": 9,
     "metadata": {},
     "output_type": "execute_result"
    }
   ],
   "source": [
    "cars['is_4wd'].value_counts()"
   ]
  },
  {
   "cell_type": "code",
   "execution_count": 10,
   "metadata": {},
   "outputs": [],
   "source": [
    "#The comment lines in this cell block outline how I probably would have tried to sort the missing values without being informed about the transform() method.\n",
    "\n",
    "#model_year_avg = cars['model_year'].mean()\n",
    "#cars['model_year'] = cars['model_year'].fillna(model_year_avg)\n",
    "cars['model_year'] = cars['model_year'].fillna(cars.groupby(['model'])['model_year'].transform('median'))\n",
    "\n",
    "#mileage_median = cars['odometer'].median()\n",
    "#cars['odometer] = cars['odometer'].fillna(mileage_median)\n",
    "cars['odometer'] = cars['odometer'].fillna(cars.groupby(['model'])['odometer'].transform('median'))\n",
    "\n",
    "#cylinders_mean = cars['cylinders'].mean()\n",
    "#cars['cylinder'] = cars['cylinder'].fillna(cylinders_mean)\n",
    "cars['cylinders'] = cars['cylinders'].fillna(cars.groupby(['model'])['cylinders'].transform('mean'))\n",
    "\n",
    "cars['paint_color'] = cars['paint_color'].fillna('Unknown')\n",
    "\n",
    "cars['is_4wd'] = cars['is_4wd'].fillna(0.0)"
   ]
  },
  {
   "cell_type": "markdown",
   "metadata": {},
   "source": [
    "This is a pretty interesting dataset, and there are a number of possibilities for the data analysis that can be done. I would like to compare the prices cars are sold for based on a few different sets of data to get an idea as to how those markers affect the price of a car. In particular, I'd like to explore the relationships the car's price has with its mileage (odometer), the type of car sold, and the length that each car was listed. This could gleam some information as to the conditions under which cars are sold for the highest prices. \n",
    "\n",
    "Lots of the ploty.express graphs are very suitable for this with the right data. I will try to do some comparing and contrasting of the infromation conveyed between plots and charts from that library and the ones used for other TripleTen work. As such, some additional grouping will be needed."
   ]
  },
  {
   "cell_type": "code",
   "execution_count": 11,
   "metadata": {},
   "outputs": [
    {
     "data": {
      "text/html": [
       "<div>\n",
       "<style scoped>\n",
       "    .dataframe tbody tr th:only-of-type {\n",
       "        vertical-align: middle;\n",
       "    }\n",
       "\n",
       "    .dataframe tbody tr th {\n",
       "        vertical-align: top;\n",
       "    }\n",
       "\n",
       "    .dataframe thead th {\n",
       "        text-align: right;\n",
       "    }\n",
       "</style>\n",
       "<table border=\"1\" class=\"dataframe\">\n",
       "  <thead>\n",
       "    <tr style=\"text-align: right;\">\n",
       "      <th></th>\n",
       "      <th>price</th>\n",
       "      <th>odometer</th>\n",
       "    </tr>\n",
       "  </thead>\n",
       "  <tbody>\n",
       "    <tr>\n",
       "      <th>2019</th>\n",
       "      <td>18674</td>\n",
       "      <td>80414.0</td>\n",
       "    </tr>\n",
       "    <tr>\n",
       "      <th>1261</th>\n",
       "      <td>11283</td>\n",
       "      <td>149000.0</td>\n",
       "    </tr>\n",
       "    <tr>\n",
       "      <th>1750</th>\n",
       "      <td>15905</td>\n",
       "      <td>123044.0</td>\n",
       "    </tr>\n",
       "    <tr>\n",
       "      <th>2287</th>\n",
       "      <td>21993</td>\n",
       "      <td>74182.0</td>\n",
       "    </tr>\n",
       "    <tr>\n",
       "      <th>2566</th>\n",
       "      <td>25985</td>\n",
       "      <td>130356.0</td>\n",
       "    </tr>\n",
       "  </tbody>\n",
       "</table>\n",
       "</div>"
      ],
      "text/plain": [
       "      price  odometer\n",
       "2019  18674   80414.0\n",
       "1261  11283  149000.0\n",
       "1750  15905  123044.0\n",
       "2287  21993   74182.0\n",
       "2566  25985  130356.0"
      ]
     },
     "execution_count": 11,
     "metadata": {},
     "output_type": "execute_result"
    }
   ],
   "source": [
    "mileage = cars.groupby('price')['odometer'].mean().reset_index() #These methods are used to drop the NA values\n",
    "mileage.sample(5)"
   ]
  },
  {
   "cell_type": "code",
   "execution_count": 12,
   "metadata": {},
   "outputs": [
    {
     "data": {
      "text/html": [
       "<div>\n",
       "<style scoped>\n",
       "    .dataframe tbody tr th:only-of-type {\n",
       "        vertical-align: middle;\n",
       "    }\n",
       "\n",
       "    .dataframe tbody tr th {\n",
       "        vertical-align: top;\n",
       "    }\n",
       "\n",
       "    .dataframe thead th {\n",
       "        text-align: right;\n",
       "    }\n",
       "</style>\n",
       "<table border=\"1\" class=\"dataframe\">\n",
       "  <thead>\n",
       "    <tr style=\"text-align: right;\">\n",
       "      <th></th>\n",
       "      <th>price</th>\n",
       "      <th>odometer</th>\n",
       "    </tr>\n",
       "  </thead>\n",
       "  <tbody>\n",
       "    <tr>\n",
       "      <th>0</th>\n",
       "      <td>1</td>\n",
       "      <td>51262.576441</td>\n",
       "    </tr>\n",
       "    <tr>\n",
       "      <th>1</th>\n",
       "      <td>3</td>\n",
       "      <td>126684.000000</td>\n",
       "    </tr>\n",
       "    <tr>\n",
       "      <th>2</th>\n",
       "      <td>5</td>\n",
       "      <td>140715.000000</td>\n",
       "    </tr>\n",
       "    <tr>\n",
       "      <th>3</th>\n",
       "      <td>6</td>\n",
       "      <td>173500.000000</td>\n",
       "    </tr>\n",
       "    <tr>\n",
       "      <th>4</th>\n",
       "      <td>9</td>\n",
       "      <td>119.000000</td>\n",
       "    </tr>\n",
       "    <tr>\n",
       "      <th>...</th>\n",
       "      <td>...</td>\n",
       "      <td>...</td>\n",
       "    </tr>\n",
       "    <tr>\n",
       "      <th>3438</th>\n",
       "      <td>145000</td>\n",
       "      <td>140000.000000</td>\n",
       "    </tr>\n",
       "    <tr>\n",
       "      <th>3439</th>\n",
       "      <td>175000</td>\n",
       "      <td>149000.000000</td>\n",
       "    </tr>\n",
       "    <tr>\n",
       "      <th>3440</th>\n",
       "      <td>189000</td>\n",
       "      <td>146361.333333</td>\n",
       "    </tr>\n",
       "    <tr>\n",
       "      <th>3441</th>\n",
       "      <td>300000</td>\n",
       "      <td>130356.000000</td>\n",
       "    </tr>\n",
       "    <tr>\n",
       "      <th>3442</th>\n",
       "      <td>375000</td>\n",
       "      <td>115000.000000</td>\n",
       "    </tr>\n",
       "  </tbody>\n",
       "</table>\n",
       "<p>3443 rows × 2 columns</p>\n",
       "</div>"
      ],
      "text/plain": [
       "       price       odometer\n",
       "0          1   51262.576441\n",
       "1          3  126684.000000\n",
       "2          5  140715.000000\n",
       "3          6  173500.000000\n",
       "4          9     119.000000\n",
       "...      ...            ...\n",
       "3438  145000  140000.000000\n",
       "3439  175000  149000.000000\n",
       "3440  189000  146361.333333\n",
       "3441  300000  130356.000000\n",
       "3442  375000  115000.000000\n",
       "\n",
       "[3443 rows x 2 columns]"
      ]
     },
     "execution_count": 12,
     "metadata": {},
     "output_type": "execute_result"
    }
   ],
   "source": [
    "mileage_price = mileage.groupby('price')\n",
    "mileage_price\n",
    "mileage_price.sample()"
   ]
  },
  {
   "cell_type": "code",
   "execution_count": 13,
   "metadata": {},
   "outputs": [
    {
     "data": {
      "text/html": [
       "<div>\n",
       "<style scoped>\n",
       "    .dataframe tbody tr th:only-of-type {\n",
       "        vertical-align: middle;\n",
       "    }\n",
       "\n",
       "    .dataframe tbody tr th {\n",
       "        vertical-align: top;\n",
       "    }\n",
       "\n",
       "    .dataframe thead th {\n",
       "        text-align: right;\n",
       "    }\n",
       "</style>\n",
       "<table border=\"1\" class=\"dataframe\">\n",
       "  <thead>\n",
       "    <tr style=\"text-align: right;\">\n",
       "      <th></th>\n",
       "      <th>type</th>\n",
       "      <th>price</th>\n",
       "    </tr>\n",
       "  </thead>\n",
       "  <tbody>\n",
       "    <tr>\n",
       "      <th>3</th>\n",
       "      <td>coupe</td>\n",
       "      <td>14353.442901</td>\n",
       "    </tr>\n",
       "    <tr>\n",
       "      <th>12</th>\n",
       "      <td>wagon</td>\n",
       "      <td>9088.134328</td>\n",
       "    </tr>\n",
       "    <tr>\n",
       "      <th>11</th>\n",
       "      <td>van</td>\n",
       "      <td>10546.941548</td>\n",
       "    </tr>\n",
       "    <tr>\n",
       "      <th>4</th>\n",
       "      <td>hatchback</td>\n",
       "      <td>6868.513849</td>\n",
       "    </tr>\n",
       "    <tr>\n",
       "      <th>8</th>\n",
       "      <td>pickup</td>\n",
       "      <td>16057.410418</td>\n",
       "    </tr>\n",
       "  </tbody>\n",
       "</table>\n",
       "</div>"
      ],
      "text/plain": [
       "         type         price\n",
       "3       coupe  14353.442901\n",
       "12      wagon   9088.134328\n",
       "11        van  10546.941548\n",
       "4   hatchback   6868.513849\n",
       "8      pickup  16057.410418"
      ]
     },
     "execution_count": 13,
     "metadata": {},
     "output_type": "execute_result"
    }
   ],
   "source": [
    "car_type = cars.groupby('type')['price'].mean().reset_index()\n",
    "car_type.sample(5)"
   ]
  },
  {
   "cell_type": "code",
   "execution_count": 14,
   "metadata": {},
   "outputs": [
    {
     "data": {
      "text/html": [
       "<div>\n",
       "<style scoped>\n",
       "    .dataframe tbody tr th:only-of-type {\n",
       "        vertical-align: middle;\n",
       "    }\n",
       "\n",
       "    .dataframe tbody tr th {\n",
       "        vertical-align: top;\n",
       "    }\n",
       "\n",
       "    .dataframe thead th {\n",
       "        text-align: right;\n",
       "    }\n",
       "</style>\n",
       "<table border=\"1\" class=\"dataframe\">\n",
       "  <thead>\n",
       "    <tr style=\"text-align: right;\">\n",
       "      <th></th>\n",
       "      <th>type</th>\n",
       "      <th>price</th>\n",
       "    </tr>\n",
       "  </thead>\n",
       "  <tbody>\n",
       "    <tr>\n",
       "      <th>4</th>\n",
       "      <td>hatchback</td>\n",
       "      <td>6868.513849</td>\n",
       "    </tr>\n",
       "    <tr>\n",
       "      <th>9</th>\n",
       "      <td>sedan</td>\n",
       "      <td>6965.358647</td>\n",
       "    </tr>\n",
       "    <tr>\n",
       "      <th>5</th>\n",
       "      <td>mini-van</td>\n",
       "      <td>8193.177433</td>\n",
       "    </tr>\n",
       "    <tr>\n",
       "      <th>12</th>\n",
       "      <td>wagon</td>\n",
       "      <td>9088.134328</td>\n",
       "    </tr>\n",
       "    <tr>\n",
       "      <th>11</th>\n",
       "      <td>van</td>\n",
       "      <td>10546.941548</td>\n",
       "    </tr>\n",
       "    <tr>\n",
       "      <th>7</th>\n",
       "      <td>other</td>\n",
       "      <td>10989.714844</td>\n",
       "    </tr>\n",
       "    <tr>\n",
       "      <th>0</th>\n",
       "      <td>SUV</td>\n",
       "      <td>11149.400000</td>\n",
       "    </tr>\n",
       "    <tr>\n",
       "      <th>6</th>\n",
       "      <td>offroad</td>\n",
       "      <td>14292.294393</td>\n",
       "    </tr>\n",
       "    <tr>\n",
       "      <th>3</th>\n",
       "      <td>coupe</td>\n",
       "      <td>14353.442901</td>\n",
       "    </tr>\n",
       "    <tr>\n",
       "      <th>2</th>\n",
       "      <td>convertible</td>\n",
       "      <td>14575.881166</td>\n",
       "    </tr>\n",
       "    <tr>\n",
       "      <th>8</th>\n",
       "      <td>pickup</td>\n",
       "      <td>16057.410418</td>\n",
       "    </tr>\n",
       "    <tr>\n",
       "      <th>10</th>\n",
       "      <td>truck</td>\n",
       "      <td>16734.894924</td>\n",
       "    </tr>\n",
       "    <tr>\n",
       "      <th>1</th>\n",
       "      <td>bus</td>\n",
       "      <td>17135.666667</td>\n",
       "    </tr>\n",
       "  </tbody>\n",
       "</table>\n",
       "</div>"
      ],
      "text/plain": [
       "           type         price\n",
       "4     hatchback   6868.513849\n",
       "9         sedan   6965.358647\n",
       "5      mini-van   8193.177433\n",
       "12        wagon   9088.134328\n",
       "11          van  10546.941548\n",
       "7         other  10989.714844\n",
       "0           SUV  11149.400000\n",
       "6       offroad  14292.294393\n",
       "3         coupe  14353.442901\n",
       "2   convertible  14575.881166\n",
       "8        pickup  16057.410418\n",
       "10        truck  16734.894924\n",
       "1           bus  17135.666667"
      ]
     },
     "execution_count": 14,
     "metadata": {},
     "output_type": "execute_result"
    }
   ],
   "source": [
    "car_type_price = car_type.groupby('price')\n",
    "car_type_price.sample()"
   ]
  },
  {
   "cell_type": "code",
   "execution_count": 15,
   "metadata": {},
   "outputs": [
    {
     "data": {
      "text/html": [
       "<div>\n",
       "<style scoped>\n",
       "    .dataframe tbody tr th:only-of-type {\n",
       "        vertical-align: middle;\n",
       "    }\n",
       "\n",
       "    .dataframe tbody tr th {\n",
       "        vertical-align: top;\n",
       "    }\n",
       "\n",
       "    .dataframe thead th {\n",
       "        text-align: right;\n",
       "    }\n",
       "</style>\n",
       "<table border=\"1\" class=\"dataframe\">\n",
       "  <thead>\n",
       "    <tr style=\"text-align: right;\">\n",
       "      <th></th>\n",
       "      <th>days_listed</th>\n",
       "      <th>price</th>\n",
       "    </tr>\n",
       "  </thead>\n",
       "  <tbody>\n",
       "    <tr>\n",
       "      <th>97</th>\n",
       "      <td>97</td>\n",
       "      <td>13523.105882</td>\n",
       "    </tr>\n",
       "    <tr>\n",
       "      <th>221</th>\n",
       "      <td>252</td>\n",
       "      <td>11500.000000</td>\n",
       "    </tr>\n",
       "    <tr>\n",
       "      <th>89</th>\n",
       "      <td>89</td>\n",
       "      <td>11466.364865</td>\n",
       "    </tr>\n",
       "    <tr>\n",
       "      <th>127</th>\n",
       "      <td>127</td>\n",
       "      <td>10086.437500</td>\n",
       "    </tr>\n",
       "    <tr>\n",
       "      <th>105</th>\n",
       "      <td>105</td>\n",
       "      <td>11906.716418</td>\n",
       "    </tr>\n",
       "  </tbody>\n",
       "</table>\n",
       "</div>"
      ],
      "text/plain": [
       "     days_listed         price\n",
       "97            97  13523.105882\n",
       "221          252  11500.000000\n",
       "89            89  11466.364865\n",
       "127          127  10086.437500\n",
       "105          105  11906.716418"
      ]
     },
     "execution_count": 15,
     "metadata": {},
     "output_type": "execute_result"
    }
   ],
   "source": [
    "list_length = cars.groupby('days_listed')['price'].mean().reset_index()\n",
    "list_length.sample(5)"
   ]
  },
  {
   "cell_type": "code",
   "execution_count": 16,
   "metadata": {},
   "outputs": [
    {
     "data": {
      "text/html": [
       "<div>\n",
       "<style scoped>\n",
       "    .dataframe tbody tr th:only-of-type {\n",
       "        vertical-align: middle;\n",
       "    }\n",
       "\n",
       "    .dataframe tbody tr th {\n",
       "        vertical-align: top;\n",
       "    }\n",
       "\n",
       "    .dataframe thead th {\n",
       "        text-align: right;\n",
       "    }\n",
       "</style>\n",
       "<table border=\"1\" class=\"dataframe\">\n",
       "  <thead>\n",
       "    <tr style=\"text-align: right;\">\n",
       "      <th></th>\n",
       "      <th>days_listed</th>\n",
       "      <th>price</th>\n",
       "    </tr>\n",
       "  </thead>\n",
       "  <tbody>\n",
       "    <tr>\n",
       "      <th>212</th>\n",
       "      <td>223</td>\n",
       "      <td>1500.0</td>\n",
       "    </tr>\n",
       "    <tr>\n",
       "      <th>195</th>\n",
       "      <td>195</td>\n",
       "      <td>1600.5</td>\n",
       "    </tr>\n",
       "    <tr>\n",
       "      <th>209</th>\n",
       "      <td>213</td>\n",
       "      <td>1975.5</td>\n",
       "    </tr>\n",
       "    <tr>\n",
       "      <th>188</th>\n",
       "      <td>188</td>\n",
       "      <td>2995.0</td>\n",
       "    </tr>\n",
       "    <tr>\n",
       "      <th>223</th>\n",
       "      <td>261</td>\n",
       "      <td>3800.0</td>\n",
       "    </tr>\n",
       "    <tr>\n",
       "      <th>...</th>\n",
       "      <td>...</td>\n",
       "      <td>...</td>\n",
       "    </tr>\n",
       "    <tr>\n",
       "      <th>202</th>\n",
       "      <td>204</td>\n",
       "      <td>25988.0</td>\n",
       "    </tr>\n",
       "    <tr>\n",
       "      <th>197</th>\n",
       "      <td>199</td>\n",
       "      <td>27500.0</td>\n",
       "    </tr>\n",
       "    <tr>\n",
       "      <th>218</th>\n",
       "      <td>240</td>\n",
       "      <td>31995.0</td>\n",
       "    </tr>\n",
       "    <tr>\n",
       "      <th>194</th>\n",
       "      <td>194</td>\n",
       "      <td>34000.0</td>\n",
       "    </tr>\n",
       "    <tr>\n",
       "      <th>208</th>\n",
       "      <td>210</td>\n",
       "      <td>38900.0</td>\n",
       "    </tr>\n",
       "  </tbody>\n",
       "</table>\n",
       "<p>224 rows × 2 columns</p>\n",
       "</div>"
      ],
      "text/plain": [
       "     days_listed    price\n",
       "212          223   1500.0\n",
       "195          195   1600.5\n",
       "209          213   1975.5\n",
       "188          188   2995.0\n",
       "223          261   3800.0\n",
       "..           ...      ...\n",
       "202          204  25988.0\n",
       "197          199  27500.0\n",
       "218          240  31995.0\n",
       "194          194  34000.0\n",
       "208          210  38900.0\n",
       "\n",
       "[224 rows x 2 columns]"
      ]
     },
     "execution_count": 16,
     "metadata": {},
     "output_type": "execute_result"
    }
   ],
   "source": [
    "list_length_price = list_length.groupby('price')\n",
    "list_length_price.sample()"
   ]
  },
  {
   "cell_type": "markdown",
   "metadata": {},
   "source": [
    "I initally planned to also compare the differences in plots between pyplot and plotly, but pyplot gave me some issues. So, we'll be focusing on the plotly.express charts, which should still give plenty of information."
   ]
  },
  {
   "cell_type": "code",
   "execution_count": 17,
   "metadata": {},
   "outputs": [],
   "source": [
    "st.header('price by mileage')\n",
    "#cars_json = cars.to_json()\n",
    "mp_hist = px.histogram(cars, x='price', y='odometer', nbins=120)\n",
    "st.write(mp_hist)\n"
   ]
  },
  {
   "cell_type": "code",
   "execution_count": 18,
   "metadata": {},
   "outputs": [],
   "source": [
    "st.header('price by type')\n",
    "type_hist = px.histogram(cars, x='price', y='type', nbins=10)\n",
    "st.write(type_hist)"
   ]
  },
  {
   "cell_type": "code",
   "execution_count": 19,
   "metadata": {},
   "outputs": [],
   "source": [
    "st.header('price by list time')\n",
    "time_hist = px.histogram(cars, x='price', y='days_listed', nbins=120)\n",
    "st.write(time_hist)"
   ]
  },
  {
   "cell_type": "code",
   "execution_count": 20,
   "metadata": {},
   "outputs": [],
   "source": [
    "st.header('price by year')\n",
    "year_scatt = px.scatter(cars, x='price', y='days_listed', color='model_year')\n",
    "st.write(year_scatt)"
   ]
  },
  {
   "cell_type": "markdown",
   "metadata": {},
   "source": [
    "I've gotten some code that works after a healthy amount of fiddling. There's a lot of code I didn't end up using, and my plans for this project had to change on the fly a bit. Maybe it'll be good practice for the real thing. I will keep the code in for review as a means of showing my prior work."
   ]
  },
  {
   "cell_type": "markdown",
   "metadata": {},
   "source": [
    "These charts as represented have some interesting data, though a lot of it is skewed by the low overall prices a majority of the cars were sold for. Price by mileage and price by list time are therefore left with a very strong skew that makes it difficult to judge them with certainty. The Price by year chart show more information and presents a more informative picture - namely, that there doesnt seem to be much of a connection between the price of a car and how long it is sold for. Different vectors of research will be needed to find details which may have correlations between price.\n",
    "\n",
    "However, the Price by Type graph does offer some very clear information as well. It seems that, at least in terms of price, larger vehicles are doing well in the US market, as the three top selling vehicle types are all larger single family vehicles."
   ]
  }
 ],
 "metadata": {
  "kernelspec": {
   "display_name": "Python 3",
   "language": "python",
   "name": "python3"
  },
  "language_info": {
   "codemirror_mode": {
    "name": "ipython",
    "version": 3
   },
   "file_extension": ".py",
   "mimetype": "text/x-python",
   "name": "python",
   "nbconvert_exporter": "python",
   "pygments_lexer": "ipython3",
   "version": "3.11.9"
  }
 },
 "nbformat": 4,
 "nbformat_minor": 2
}
